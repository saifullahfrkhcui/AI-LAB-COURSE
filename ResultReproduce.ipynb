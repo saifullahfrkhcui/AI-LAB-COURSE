{
  "nbformat": 4,
  "nbformat_minor": 0,
  "metadata": {
    "colab": {
      "provenance": []
    },
    "kernelspec": {
      "name": "python3",
      "display_name": "Python 3"
    },
    "language_info": {
      "name": "python"
    }
  },
  "cells": [
    {
      "cell_type": "code",
      "execution_count": 8,
      "metadata": {
        "colab": {
          "base_uri": "https://localhost:8080/"
        },
        "id": "ilg9H86XPwIo",
        "outputId": "8a26de0c-97bd-49c2-aebf-d518ebfe90c2"
      },
      "outputs": [
        {
          "output_type": "stream",
          "name": "stdout",
          "text": [
            "1D Array: [ 3  4  5  6  7  8  9 10 11 12 13 14 15 16 17 18 19 20 21 22]\n",
            "4x5 Matrix:\n",
            " [[ 3  4  5  6  7  8  9 10 11 12]\n",
            " [13 14 15 16 17 18 19 20 21 22]]\n",
            "Mean: 12.5\n",
            "Median: 12.5\n",
            "Standard Deviation: 5.766281297335398\n",
            "Addition: [ 4  6  8 10 12 14 16 18 20 22 24 26 28 30 32 34 36 38 40 42]\n",
            "Multiplication: [  3   8  15  24  35  48  63  80  99 120 143 168 195 224 255 288 323 360\n",
            " 399 440]\n"
          ]
        }
      ],
      "source": [
        "import numpy as np\n",
        "\n",
        "# Create 1D array\n",
        "arr = np.arange(3, 23)\n",
        "print('1D Array:', arr)\n",
        "\n",
        "# Reshape to 2x5 matrix\n",
        "matrix = arr.reshape(2, 10)\n",
        "print('4x5 Matrix:\\n', matrix)\n",
        "\n",
        "# Mean, Median, Std\n",
        "print('Mean:', np.mean(arr))\n",
        "print('Median:', np.median(arr))\n",
        "print('Standard Deviation:', np.std(arr))\n",
        "\n",
        "# Element-wise operations\n",
        "arr2 = np.arange(1, 21)\n",
        "print('Addition:', arr + arr2)\n",
        "print('Multiplication:', arr * arr2)"
      ]
    }
  ]
}