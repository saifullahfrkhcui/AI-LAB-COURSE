{
  "nbformat": 4,
  "nbformat_minor": 0,
  "metadata": {
    "colab": {
      "provenance": []
    },
    "kernelspec": {
      "name": "python3",
      "display_name": "Python 3"
    },
    "language_info": {
      "name": "python"
    }
  },
  "cells": [
    {
      "cell_type": "code",
      "execution_count": 5,
      "metadata": {
        "id": "h51WEf0fAsny",
        "colab": {
          "base_uri": "https://localhost:8080/"
        },
        "outputId": "59015c04-83fd-42be-aadc-eea09a1b237c"
      },
      "outputs": [
        {
          "output_type": "stream",
          "name": "stdout",
          "text": [
            "BFS Shortest Path from Skardu to Peshawar: ['skardu', 'Abbottabad', 'Sukkur', 'Multan', 'Lahore', 'Islamabad', 'Peshawar']\n",
            "DFS Path from Skardu to Peshawar: ['skardu', 'Abbottabad', 'Sukkur', 'Multan', 'Lahore', 'Islamabad', 'Peshawar']\n"
          ]
        }
      ],
      "source": [
        "from collections import deque\n",
        "\n",
        "pakistan_cities = {\n",
        "    'skardu': ['Abbottabad'],\n",
        "    'Abbottabad': ['skardu', 'Sukkur'],\n",
        "    'Sukkur': ['Abbottabad', 'Multan', 'Quetta'],\n",
        "    'Multan': ['Sukkur', 'Lahore'],\n",
        "    'Quetta': ['Sukkur'],\n",
        "    'Lahore': ['Multan', 'Islamabad'],\n",
        "    'Islamabad': ['Lahore', 'Peshawar'],\n",
        "    'Peshawar': ['Islamabad']\n",
        "}\n",
        "\n",
        "def bfs_shortest_path(graph, start, goal):\n",
        "    queue = deque([[start]])\n",
        "    visited = set()\n",
        "    while queue:\n",
        "        path = queue.popleft()\n",
        "        current_city = path[-1]\n",
        "        if current_city == goal:\n",
        "            return path\n",
        "        if current_city not in visited:\n",
        "            visited.add(current_city)\n",
        "            for neighbor in graph.get(current_city, []):\n",
        "                new_path = list(path)\n",
        "                new_path.append(neighbor)\n",
        "                queue.append(new_path)\n",
        "    return None\n",
        "\n",
        "def dfs_path(graph, start, goal, path=None, visited=None):\n",
        "    if path is None:\n",
        "        path = []\n",
        "    if visited is None:\n",
        "        visited = set()\n",
        "    path.append(start)\n",
        "    visited.add(start)\n",
        "    if start == goal:\n",
        "        return path\n",
        "    for neighbor in graph.get(start, []):\n",
        "        if neighbor not in visited:\n",
        "            result = dfs_path(graph, neighbor, goal, path.copy(), visited.copy())\n",
        "            if result:\n",
        "                return result\n",
        "    return None\n",
        "\n",
        "start_city = \"skardu\"\n",
        "goal_city = \"Peshawar\"\n",
        "\n",
        "bfs_result = bfs_shortest_path(pakistan_cities, start_city, goal_city)\n",
        "print(\"BFS Shortest Path from Skardu to Peshawar:\", bfs_result)\n",
        "\n",
        "dfs_result = dfs_path(pakistan_cities, start_city, goal_city)\n",
        "print(\"DFS Path from Skardu to Peshawar:\", dfs_result)\n"
      ]
    }
  ]
}