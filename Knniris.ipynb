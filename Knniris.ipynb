{
  "nbformat": 4,
  "nbformat_minor": 0,
  "metadata": {
    "colab": {
      "provenance": []
    },
    "kernelspec": {
      "name": "python3",
      "display_name": "Python 3"
    },
    "language_info": {
      "name": "python"
    }
  },
  "cells": [
    {
      "cell_type": "code",
      "execution_count": 16,
      "metadata": {
        "colab": {
          "base_uri": "https://localhost:8080/"
        },
        "id": "xU__iLWVSVHq",
        "outputId": "c5d0978d-145d-4419-b26b-79b33f559ae2"
      },
      "outputs": [
        {
          "output_type": "stream",
          "name": "stdout",
          "text": [
            "Training Accuracy: 0.867\n",
            "Testing Accuracy: 0.756\n",
            "Possible Overfitting: Train accuracy is much higher than Test accuracy.\n"
          ]
        }
      ],
      "source": [
        "import numpy as np\n",
        "import pandas as pd\n",
        "import matplotlib.pyplot as plt\n",
        "from sklearn.datasets import load_iris\n",
        "from sklearn.neighbors import KNeighborsClassifier\n",
        "from sklearn.model_selection import train_test_split\n",
        "from sklearn.metrics import accuracy_score\n",
        "\n",
        "# Load Iris data (only first two features)\n",
        "iris = load_iris()\n",
        "X = iris.data[:, :2]\n",
        "Y = iris.target\n",
        "\n",
        "# Split data into train and test sets (70% train, 30% test)\n",
        "X_train, X_test, Y_train, Y_test = train_test_split(X, Y, test_size=0.3, random_state=42)\n",
        "\n",
        "# Create and train KNN classifier\n",
        "knn = KNeighborsClassifier(n_neighbors=3)\n",
        "knn.fit(X_train, Y_train)\n",
        "\n",
        "# Predict on train and test sets\n",
        "train_pred = knn.predict(X_train)\n",
        "test_pred = knn.predict(X_test)\n",
        "\n",
        "# Calculate accuracies\n",
        "train_acc = accuracy_score(Y_train, train_pred)\n",
        "test_acc = accuracy_score(Y_test, test_pred)\n",
        "\n",
        "print(f\"Training Accuracy: {train_acc:.3f}\")\n",
        "print(f\"Testing Accuracy: {test_acc:.3f}\")\n",
        "\n",
        "# Interpretation\n",
        "if train_acc - test_acc > 0.1:\n",
        "    print(\"Possible Overfitting: Train accuracy is much higher than Test accuracy.\")\n",
        "elif test_acc > 0.7:\n",
        "    print(\"Good fit: Both train and test accuracy are reasonably high.\")\n",
        "else:\n",
        "    print(\"Possible Underfitting: Both accuracies are low.\")\n",
        "\n",
        "\n"
      ]
    }
  ]
}