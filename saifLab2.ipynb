{
  "nbformat": 4,
  "nbformat_minor": 0,
  "metadata": {
    "colab": {
      "provenance": []
    },
    "kernelspec": {
      "name": "python3",
      "display_name": "Python 3"
    },
    "language_info": {
      "name": "python"
    }
  },
  "cells": [
    {
      "cell_type": "code",
      "execution_count": 16,
      "metadata": {
        "colab": {
          "base_uri": "https://localhost:8080/"
        },
        "id": "dn3pjxEIA2xL",
        "outputId": "b8e49c01-3936-44dc-ce36-541fcf7c0a49"
      },
      "outputs": [
        {
          "output_type": "stream",
          "name": "stdout",
          "text": [
            "Original List: [10, 23, 5, 89, 45, 67, 34, 11, 90]\n",
            "Sum: 374\n",
            "Max: 90\n",
            "Min: 5\n",
            "Updated List: [10, 5, 89, 45, 67, 34, 11, 90, 50]\n",
            "Ascending: [5, 10, 11, 34, 45, 50, 67, 89, 90]\n",
            "Descending: [90, 89, 67, 50, 45, 34, 11, 10, 5]\n",
            "second element: banana\n",
            "Last element: blueberry\n",
            "Modified list: ['apple', 'banana', 'grape', 'date', 'blueberry']\n",
            "Set1: {1, 2, 3, 4, 5}\n",
            "Set2: {4, 5, 6, 7, 8}\n",
            "Union: {1, 2, 3, 4, 5, 6, 7, 8}\n",
            "Intersection: {4, 5}\n",
            "Difference: {1, 2, 3}\n",
            "keys: dict_keys(['Saif', 'zoraiz', 'ali'])\n",
            "values: dict_values([100, 60, 85])\n"
          ]
        }
      ],
      "source": [
        "# create a list of 10 integers\n",
        "numbers = [10,23,5,89,45,67,34,11,90]\n",
        "print('Original List:', numbers)\n",
        "\n",
        "#sum, max, and min\n",
        "print('Sum:', sum(numbers))\n",
        "print('Max:', max(numbers))\n",
        "print('Min:', min(numbers))\n",
        "\n",
        "#Add and remove element\n",
        "numbers.append(50)\n",
        "numbers.remove(23)\n",
        "print('Updated List:', numbers)\n",
        "\n",
        "#sort ascending and decending\n",
        "print('Ascending:', sorted (numbers))\n",
        "print('Descending:', sorted (numbers, reverse=True))\n",
        "\n",
        "#create a tuple with 5 strings\n",
        "fruits = ('apple', 'banana', 'cherry', 'date', 'blueberry')\n",
        "print('second element:', fruits[1])\n",
        "print('Last element:', fruits[-1])\n",
        "\n",
        "#modification in tuple by creating a list\n",
        "fruits_list = list(fruits)\n",
        "fruits_list[2] = 'grape'\n",
        "print('Modified list:', fruits_list)\n",
        "\n",
        "#creating two sets\n",
        "set1 = {1,2,3,4,5}\n",
        "set2 = {4,5,6,7,8}\n",
        "print('Set1:', set1)\n",
        "print('Set2:', set2)\n",
        "\n",
        "#union, intersection, difference\n",
        "print('Union:', set1.union(set2))\n",
        "print('Intersection:', set1 & set2 )\n",
        "print('Difference:', set1 - set2 )\n",
        "\n",
        "#creating student keys through dictionary and print\n",
        "\n",
        "student =  {'Saif': 100, 'zoraiz': 60, 'ali':85}\n",
        "print('keys:', student.keys())\n",
        "print('values:', student.values())\n",
        "\n",
        "\n",
        "\n",
        "\n",
        "\n",
        "\n",
        "\n",
        "\n"
      ]
    }
  ]
}