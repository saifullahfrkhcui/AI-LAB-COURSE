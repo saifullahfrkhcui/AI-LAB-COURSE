{
  "nbformat": 4,
  "nbformat_minor": 0,
  "metadata": {
    "colab": {
      "provenance": []
    },
    "kernelspec": {
      "name": "python3",
      "display_name": "Python 3"
    },
    "language_info": {
      "name": "python"
    }
  },
  "cells": [
    {
      "cell_type": "code",
      "execution_count": 1,
      "metadata": {
        "colab": {
          "base_uri": "https://localhost:8080/"
        },
        "id": "nfXWGZhZQKSQ",
        "outputId": "5c7234f0-6806-492e-d410-770211013083"
      },
      "outputs": [
        {
          "output_type": "stream",
          "name": "stdout",
          "text": [
            "Minimax result at A: 5\n",
            "Visited / pruned trace:\n",
            "('A->B->D->0', 3, 'leaf')\n",
            "('A->B->D->1', 5, 'leaf')\n",
            "('A->B->E->0', 6, 'leaf')\n",
            "('A->B->E->0 (prune_remaining_siblings)', None, 'prune')\n",
            "('A->C->F->0', 1, 'leaf')\n",
            "('A->C->F->1', 2, 'leaf')\n",
            "('A->C->F (prune_remaining_siblings)', None, 'prune')\n"
          ]
        }
      ],
      "source": [
        "# Represent the tree with dicts/lists to preserve labels and ordering.\n",
        "root = {\n",
        "    'B': {            # B is Min\n",
        "        'D': [3, 5],  # D is Max\n",
        "        'E': [6, 9]   # E is Max\n",
        "    },\n",
        "    'C': {            # C is Min\n",
        "        'F': [1, 2],  # F is Max\n",
        "        'G': [0, -1]  # G is Max (this subtree will be pruned)\n",
        "    }\n",
        "}\n",
        "\n",
        "VISITED = []\n",
        "\n",
        "def alphabeta(node, alpha, beta, maximizing, path=\"A\"):\n",
        "    # leaf as int\n",
        "    if isinstance(node, int):\n",
        "        VISITED.append((path, node, \"leaf\"))\n",
        "        return node\n",
        "\n",
        "    # dict -> named children preserving order\n",
        "    if isinstance(node, dict):\n",
        "        items = list(node.items())\n",
        "    else:\n",
        "        # list of children\n",
        "        items = list(enumerate(node))\n",
        "\n",
        "    if maximizing:\n",
        "        value = -10**9\n",
        "        for name, child in items:\n",
        "            child_path = f\"{path}->{name}\"\n",
        "            v = alphabeta(child, alpha, beta, False, child_path)\n",
        "            value = max(value, v)\n",
        "            alpha = max(alpha, value)\n",
        "            if alpha >= beta:\n",
        "                VISITED.append((f\"{child_path} (prune_remaining_siblings)\", None, \"prune\"))\n",
        "                break\n",
        "        return value\n",
        "    else:\n",
        "        value = 10**9\n",
        "        for name, child in items:\n",
        "            child_path = f\"{path}->{name}\"\n",
        "            v = alphabeta(child, alpha, beta, True, child_path)\n",
        "            value = min(value, v)\n",
        "            beta = min(beta, value)\n",
        "            if alpha >= beta:\n",
        "                VISITED.append((f\"{child_path} (prune_remaining_siblings)\", None, \"prune\"))\n",
        "                break\n",
        "        return value\n",
        "\n",
        "VISITED.clear()\n",
        "result = alphabeta(root, alpha=-10**9, beta=10**9, maximizing=True, path=\"A\")\n",
        "print(\"Minimax result at A:\", result)\n",
        "print(\"Visited / pruned trace:\")\n",
        "for item in VISITED:\n",
        "    print(item)\n"
      ]
    }
  ]
}